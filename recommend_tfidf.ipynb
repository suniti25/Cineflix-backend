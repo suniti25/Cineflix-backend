{
 "cells": [
  {
   "cell_type": "code",
   "execution_count": 1,
   "metadata": {},
   "outputs": [],
   "source": [
    "import pandas as pd\n",
    "import numpy as np\n",
    "import sqlite3 "
   ]
  },
  {
   "cell_type": "code",
   "execution_count": 2,
   "metadata": {},
   "outputs": [],
   "source": [
    "data = pd.read_csv('final_data.csv')\n"
   ]
  },
  {
   "cell_type": "code",
   "execution_count": 3,
   "metadata": {},
   "outputs": [
    {
     "data": {
      "text/plain": [
       "Index(['Unnamed: 0', 'Unnamed: 0.1', 'id', 'imdb_id', 'original_title', 'cast',\n",
       "       'homepage', 'tagline', 'keywords', 'overview', 'runtime', 'genres',\n",
       "       'release_year', 'tags', 'averageRating'],\n",
       "      dtype='object')"
      ]
     },
     "execution_count": 3,
     "metadata": {},
     "output_type": "execute_result"
    }
   ],
   "source": [
    "data.columns"
   ]
  },
  {
   "cell_type": "code",
   "execution_count": 4,
   "metadata": {},
   "outputs": [],
   "source": [
    "import sklearn\n",
    "from sklearn.feature_extraction.text import TfidfVectorizer"
   ]
  },
  {
   "cell_type": "code",
   "execution_count": 5,
   "metadata": {},
   "outputs": [],
   "source": [
    "tfv = TfidfVectorizer(min_df=3,max_features=None, strip_accents='unicode',analyzer='word',token_pattern=r'\\w{1,}',ngram_range=(1,3),stop_words='english')\n"
   ]
  },
  {
   "cell_type": "code",
   "execution_count": 6,
   "metadata": {},
   "outputs": [],
   "source": [
    "data['tags']= data['tags'].fillna(' ')"
   ]
  },
  {
   "cell_type": "code",
   "execution_count": 7,
   "metadata": {},
   "outputs": [],
   "source": [
    "tfv_matrix= tfv.fit_transform(data['tags'])"
   ]
  },
  {
   "cell_type": "code",
   "execution_count": 8,
   "metadata": {},
   "outputs": [
    {
     "data": {
      "text/plain": [
       "<10850x31006 sparse matrix of type '<class 'numpy.float64'>'\n",
       "\twith 445596 stored elements in Compressed Sparse Row format>"
      ]
     },
     "execution_count": 8,
     "metadata": {},
     "output_type": "execute_result"
    }
   ],
   "source": [
    "tfv_matrix"
   ]
  },
  {
   "cell_type": "code",
   "execution_count": 9,
   "metadata": {},
   "outputs": [
    {
     "data": {
      "text/plain": [
       "(10850, 31006)"
      ]
     },
     "execution_count": 9,
     "metadata": {},
     "output_type": "execute_result"
    }
   ],
   "source": [
    "tfv_matrix.shape"
   ]
  },
  {
   "cell_type": "code",
   "execution_count": 10,
   "metadata": {},
   "outputs": [],
   "source": [
    "from sklearn.metrics.pairwise import sigmoid_kernel\n",
    "#compute sigmoid kernel\n",
    "sig = sigmoid_kernel(tfv_matrix, tfv_matrix)"
   ]
  },
  {
   "cell_type": "code",
   "execution_count": 11,
   "metadata": {},
   "outputs": [
    {
     "data": {
      "text/plain": [
       "array([0.7616077 , 0.76159532, 0.76159526, ..., 0.76159416, 0.76159426,\n",
       "       0.76159416])"
      ]
     },
     "execution_count": 11,
     "metadata": {},
     "output_type": "execute_result"
    }
   ],
   "source": [
    "sig[0]"
   ]
  },
  {
   "cell_type": "code",
   "execution_count": 12,
   "metadata": {},
   "outputs": [],
   "source": [
    "indices = pd.Series(data.index, index= data['original_title']).drop_duplicates()"
   ]
  },
  {
   "cell_type": "code",
   "execution_count": 13,
   "metadata": {},
   "outputs": [
    {
     "data": {
      "text/plain": [
       "original_title\n",
       "Jurassic World                      0\n",
       "Mad Max: Fury Road                  1\n",
       "Insurgent                           2\n",
       "Star Wars: The Force Awakens        3\n",
       "Furious 7                           4\n",
       "                                ...  \n",
       "The Endless Summer              10845\n",
       "Grand Prix                      10846\n",
       "Beregis Avtomobilya             10847\n",
       "What's Up, Tiger Lily?          10848\n",
       "Manos: The Hands of Fate        10849\n",
       "Length: 10850, dtype: int64"
      ]
     },
     "execution_count": 13,
     "metadata": {},
     "output_type": "execute_result"
    }
   ],
   "source": [
    "indices"
   ]
  },
  {
   "cell_type": "code",
   "execution_count": 14,
   "metadata": {},
   "outputs": [],
   "source": [
    "def give_rec(title, sig=sig):\n",
    "    idx = indices[title]\n",
    "    sig_scores = list(enumerate(sig[idx]))\n",
    "    sig_scores = sorted(sig_scores, key= lambda x: x[1], reverse= True)\n",
    "    sig_scores = sig_scores[1:11]\n",
    "    print(sig_scores)\n",
    "    movie_indices = [i[0] for i in sig_scores]\n",
    "    return data['original_title'].iloc[movie_indices]"
   ]
  },
  {
   "cell_type": "code",
   "execution_count": 15,
   "metadata": {},
   "outputs": [
    {
     "name": "stdout",
     "output_type": "stream",
     "text": [
      "[(1914, 0.7615979820369818), (5414, 0.7615973678780326), (4353, 0.7615972381043888), (2870, 0.7615970143338007), (5904, 0.7615959677770722), (629, 0.7615959607967727), (9237, 0.7615958438203598), (2226, 0.7615957056042705), (2880, 0.7615956989111381), (8214, 0.7615956983763374)]\n"
     ]
    },
    {
     "data": {
      "text/plain": [
       "1914                                           Iron Man 2\n",
       "5414                                           Iron Man 3\n",
       "4353                                         The Avengers\n",
       "2870                                             Iron Man\n",
       "5904                     Phineas and Ferb: Mission Marvel\n",
       "629                   Captain America: The Winter Soldier\n",
       "9237    The Toxic Avenger Part III: The Last Temptatio...\n",
       "2226                         Scrat's Continental Crack-Up\n",
       "2880                                  The Incredible Hulk\n",
       "8214                     Darkman II: The Return of Durant\n",
       "Name: original_title, dtype: object"
      ]
     },
     "execution_count": 15,
     "metadata": {},
     "output_type": "execute_result"
    }
   ],
   "source": [
    "give_rec('Avengers: Age of Ultron')"
   ]
  }
 ],
 "metadata": {
  "interpreter": {
   "hash": "2d21f6ddfba66f5c57e78a1dace097aa35bba2ebc5218d3c9da14608b6a937b3"
  },
  "kernelspec": {
   "display_name": "Python 3.7.4 64-bit",
   "language": "python",
   "name": "python3"
  },
  "language_info": {
   "codemirror_mode": {
    "name": "ipython",
    "version": 3
   },
   "file_extension": ".py",
   "mimetype": "text/x-python",
   "name": "python",
   "nbconvert_exporter": "python",
   "pygments_lexer": "ipython3",
   "version": "3.7.4"
  },
  "orig_nbformat": 4
 },
 "nbformat": 4,
 "nbformat_minor": 2
}
